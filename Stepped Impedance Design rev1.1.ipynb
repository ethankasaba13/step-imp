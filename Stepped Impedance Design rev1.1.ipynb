{
 "cells": [
  {
   "attachments": {},
   "cell_type": "markdown",
   "metadata": {},
   "source": [
    "# Stepped Impedance Design"
   ]
  },
  {
   "attachments": {},
   "cell_type": "markdown",
   "metadata": {},
   "source": [
    "This design is done using a 3rd-order Chebyshev I type filter, with a maximum ripple in the passband of 0.1dB, in accordance with Microstrip Filters for RF/Micowave Applications by Jia-Sheng Hong.\n",
    "<br>\n",
    "Much of the difficult work obtaining equations is from the aforementioned Microstrip Filters for RF/Micowave Applications by Jia-Sheng Hong. I highly recommend reading it to truly understand the construction of microstrip filters of any kind.\n",
    "<br>\n",
    "Notebook written by Ethan Kasaba.\n",
    "<br>\n",
    "Revision 1.1"
   ]
  },
  {
   "attachments": {},
   "cell_type": "markdown",
   "metadata": {},
   "source": [
    "## Imports"
   ]
  },
  {
   "cell_type": "code",
   "execution_count": 9,
   "metadata": {},
   "outputs": [],
   "source": [
    "from scipy import signal\n",
    "from scipy.optimize import fsolve\n",
    "import numpy as np \n",
    "import matplotlib.pyplot as plt"
   ]
  },
  {
   "attachments": {},
   "cell_type": "markdown",
   "metadata": {},
   "source": [
    "## Variables That Can Be Changed"
   ]
  },
  {
   "cell_type": "code",
   "execution_count": 10,
   "metadata": {},
   "outputs": [],
   "source": [
    "cutoff = 2.5 * 10 ** 9 # cutoff frequency (Hz)\n",
    "\n",
    "#Change these values to match your substrate, and the characteristic impedances of the low- and high-impedance lines\n",
    "epsilon = 10.8 # relative permittivity of substrate\n",
    "h = 1.4 # substrate thickness (mm)\n",
    "z0c = 24 # desired characteristic impedance of low-impendance (capacitive) lines (ohms), 24 ohms chosen based on Hong\n",
    "z0l = 93 # desired characteristic impedance of high-impendance (inductive) lines (ohms), 93 ohms chosen based on Hong"
   ]
  },
  {
   "attachments": {},
   "cell_type": "markdown",
   "metadata": {},
   "source": [
    "## Variables That Should Not Be Changed"
   ]
  },
  {
   "cell_type": "code",
   "execution_count": 11,
   "metadata": {},
   "outputs": [],
   "source": [
    "ord = 3 # order, number of reactive elements in the filter\n",
    "# Note that the order may be changed to get the g's, but the length calculations have yet to be generalized to other orders\n",
    "rip = 0.1 # maximum ripple (dB) in pass band\n",
    "# The same applies to the ripple, it may be changed to obtain g's, but the length calculations have yet to be generalized to other ripple values\n",
    "cutoffGHz = cutoff / (10 ** 9) # cutoff frequency conversion (GHz)\n",
    "cutoffrads = 2 * np.pi * cutoff # cutoff frequency conversion (rads/sec)\n",
    "g0 = 1 # source impedance, normalized to 1 typically\n",
    "z0 = 50 # characteristic impedance (ohms), usually 50 ohms for microwave applications\n",
    "type = 'low' # type of filter: low-pass, this is for the plotting"
   ]
  },
  {
   "attachments": {},
   "cell_type": "markdown",
   "metadata": {},
   "source": [
    "## Plotting Expected Transfer Function"
   ]
  },
  {
   "cell_type": "code",
   "execution_count": 12,
   "metadata": {},
   "outputs": [
    {
     "data": {
      "image/png": "[encoded data removed]",
      "text/plain": [
       "<Figure size 640x480 with 1 Axes>"
      ]
     },
     "metadata": {},
     "output_type": "display_data"
    }
   ],
   "source": [
    "b, a = signal.cheby1(ord, rip, cutoffrads, type, analog=True) # get filter coefficients for plotting\n",
    "w, x = signal.freqs(b, a) # frequency response for plotting\n",
    "plt.semilogx(w / (2 * np.pi), 20 * np.log10(abs(x))) # plot frequency response\n",
    "plt.title('Chebyshev Type I frequency response')\n",
    "plt.xlabel('Frequency [Hertz]')\n",
    "plt.ylabel('Amplitude [dB]')\n",
    "plt.margins(0, 0.1)\n",
    "plt.grid(which='both', axis='both')\n",
    "plt.axvline(cutoff, color='green') # cutoff frequency line in green\n",
    "plt.show()"
   ]
  },
  {
   "attachments": {},
   "cell_type": "markdown",
   "metadata": {},
   "source": [
    "## Finding the Element Values"
   ]
  },
  {
   "cell_type": "code",
   "execution_count": 13,
   "metadata": {},
   "outputs": [],
   "source": [
    "beta = np.log(1/np.tanh(rip / 17.37)) # phase constant/beta value for Chebyshev response, Hong p. 41\n",
    "gamma = np.sinh(beta / (2 * ord)) # propagation constant/gamma value for Chebyshev response, Hong p. 41\n",
    "gs = np.zeros(ord + 2) # g values for Chebyshev response\n",
    "for i in range(ord + 2):\n",
    "    if i == 0:\n",
    "        gs[i] = 1 # g0 value for Chebyshev response, see variables that should not be changed above\n",
    "    elif i == 1:\n",
    "        gs[i] = (2 / gamma) * np.sin(np.pi / (2 * ord)) # g1 value for Chebyshev response, Hong p. 41\n",
    "    elif i <= ord:\n",
    "        gs[i] = (1 / gs[i - 1]) * (4 * np.sin((2 * i - 1) * np.pi / (2 * ord)) * np.sin((2 * i - 3) * np.pi / (2 * ord))) / (gamma ** 2 + (np.sin(((i - 1) * np.pi) / ord) ** 2)) # g n value for Chebyshev response, Hong p. 41 (3.26)\n",
    "    else:\n",
    "        if ord % 2 == 0:\n",
    "            gs[i] = (1 / np.tanh(beta / 4)) ** 2 # g n+1 value for Chebyshev response, Hong p. 41\n",
    "        else:\n",
    "            gs[i] = 1 # g n+1 value for Chebyshev response, Hong p. 41"
   ]
  },
  {
   "attachments": {},
   "cell_type": "markdown",
   "metadata": {},
   "source": [
    "## Element Calculation"
   ]
  },
  {
   "cell_type": "code",
   "execution_count": 14,
   "metadata": {},
   "outputs": [
    {
     "name": "stdout",
     "output_type": "stream",
     "text": [
      "L1 =  3.283637493005715e-09\n",
      "C2 =  1.4609154737392528e-12\n",
      "L3 =  3.283637493005715e-09\n"
     ]
    }
   ],
   "source": [
    "def inductancefromg(z0, g0, f, g): # Gets inductance from g value, Hong p. 114 (5.1)\n",
    "    return (z0/g0) * (1/(2*np.pi*f)) * g\n",
    "def capacitancefromg(z0, g0, f, g): # Gets capacitance from g value, Hong p. 114 (5.1)\n",
    "    return (g0/z0) * (1/(2*np.pi*f)) * g\n",
    "\n",
    "element = 1 # element number, skipping 0, the source impedance\n",
    "elements = [] # inductances and capacitances of each element\n",
    "for g in gs: # iterate through g values, obtain inductance or capacitance\n",
    "    if g == 1:\n",
    "        continue\n",
    "    elif element % 2 == 1:\n",
    "        out = inductancefromg(z0, g0, cutoff, g)\n",
    "        print(\"L\" + str(element) +  \" = \", out)\n",
    "    else:\n",
    "        out = capacitancefromg(z0, g0, cutoff, g)\n",
    "        print(\"C\" + str(element) +  \" = \", out)\n",
    "    element += 1\n",
    "    elements.append(out)\n",
    "L = elements[0] # inductance of first and third element, in the the 3rd order case\n",
    "C = elements[1] # capacitance of second element"
   ]
  },
  {
   "attachments": {},
   "cell_type": "markdown",
   "metadata": {},
   "source": [
    "## Finding the Element Lengths, Only Works for 3rd Order, 0.1dB ripple"
   ]
  },
  {
   "cell_type": "code",
   "execution_count": 16,
   "metadata": {},
   "outputs": [
    {
     "name": "stdout",
     "output_type": "stream",
     "text": [
      "The lengths of the inductive elements are: 3.8957637806919028 mm\n",
      "The lengths of the capacitive elements are: 2.8549063576776073 mm\n"
     ]
    }
   ],
   "source": [
    "def findulessthan2(ep, z): # finds ratio of width to height when w/h <= 2, done for inductor and source impedence\n",
    "    A = (z / 60) * ((ep + 1) / 2) ** 0.5 + ((ep - 1) / (ep + 1)) * (0.23 + 0.11 / epsilon) # Used in next declaration, Hong p. 79\n",
    "    return 8 * np.exp(A) / (np.exp(2 * A) - 2) # Hong p. 79 (4.10)\n",
    "\n",
    "def findumorethan2(ep, z): # finds ratio of width to height when w/h >= 2, done for capacitor\n",
    "    B = (60 * np.pi ** 2) / (z * np.sqrt(ep)) # Used in next declaration, Hong p. 79\n",
    "    return (2 / np.pi) * (B - 1 - np.log(2 * B - 1) + ((ep - 1) / (2 * ep)) * (np.log(B - 1) + 0.39 - 0.61 / ep)) # Hong p. 79 (4.11)\n",
    "\n",
    "def effepsilon(ep, u): # finds effective permittivity, Hong p. 78 (4.4)\n",
    "    a = 1 + 1/49 * np.log((u ** 4 + (u / 52) ** 2) / (u ** 4 + 0.432)) + 1/18.7 * np.log(1 + (u / 18.1) ** 3)\n",
    "    b = 0.564 * ((ep - 0.9) / (ep + 3)) ** 0.053\n",
    "    return ((ep + 1) / 2) + ((ep - 1) / 2) * ((1 + 10 / u) ** (-a * b))\n",
    "effepsilonL = effepsilon(epsilon, findulessthan2(epsilon, z0l)) # effective permittivity, for inductor\n",
    "effepsilonC = effepsilon(epsilon, findumorethan2(epsilon, z0c)) # effective permittivity, for capacitor\n",
    "effepsilon0 = effepsilon(epsilon, findulessthan2(epsilon, z0)) # effective permittivity, for source impedance\n",
    "\n",
    "def findlambda(cutoff, effepsilon): # find guided wavelength, Hong p. 77 (4.6b)\n",
    "    return 300 / ((cutoff) * np.sqrt(effepsilon)) # guided wavelength (mm)\n",
    "lambdal = findlambda(cutoffGHz, effepsilonL) # guided wavelength for inductor (mm)\n",
    "lambdac = findlambda(cutoffGHz, effepsilonC) # guided wavelength for capacitor (mm)\n",
    "lambda0 = findlambda(cutoffGHz, effepsilon0) # guided wavelength for source impedance (mm)\n",
    "\n",
    "def func(x): # system of equations to solve for x = [lL, lC], Hong p. 114\n",
    "    return [z0l * np.sin((2 * np.pi * x[0]) / lambdal) + z0c * np.tan((np.pi * x[1]) / lambdac) - cutoffrads * L,\n",
    "            (1 / z0c) * np.sin((2 * np.pi * x[1]) / lambdac) + (2 / z0l) * np.tan(np.pi * x[0] / lambdal) - cutoffrads * C]\n",
    "lengths = fsolve(func, [0.01, 0.01]) # solve for lL and lC, the lengths of the inductive and capacitive elements, respectively\n",
    "\n",
    "i = 0 # counter for printing out lengths\n",
    "for length in lengths: # print out lengths of inductive and capacitive elements\n",
    "    if i % 2 == 0:\n",
    "        print(\"The lengths of the inductive elements are: \" + str(length) + \" mm\")\n",
    "    else:\n",
    "        print(\"The lengths of the capacitive elements are: \" + str(length) + \" mm\")\n",
    "    i += 1\n",
    "# print(\"The guided wavelength for the inductive elements is: \" + str(lambdal) + \" mm\")\n",
    "# print(\"The guided wavelength for the capacitive elements is: \" + str(lambdac) + \" mm\")\n",
    "# print(\"The guided wavelength for the source impedance is: \" + str(lambda0) + \" mm\")"
   ]
  },
  {
   "attachments": {},
   "cell_type": "markdown",
   "metadata": {},
   "source": [
    "## Finding the Element Widths, Same as Above"
   ]
  },
  {
   "cell_type": "code",
   "execution_count": 8,
   "metadata": {},
   "outputs": [
    {
     "name": "stdout",
     "output_type": "stream",
     "text": [
      "The widths of the inductive elements are: 0.21272005067174096 mm\n",
      "The widths of the capacitive elements are: 4.3395632556119805 mm\n"
     ]
    }
   ],
   "source": [
    "w0 = h * findulessthan2(epsilon, z0) # width of source impedance (mm)\n",
    "wl = h * findulessthan2(epsilon, z0l) # width of high-impedance line (mm)\n",
    "wc = h * findumorethan2(epsilon, z0c) # width of low-impedance line (mm)\n",
    "\n",
    "print(\"The widths of the inductive elements are: \" + str(wl) + \" mm\")\n",
    "print(\"The widths of the capacitive elements are: \" + str(wc) + \" mm\")\n",
    "# print(\"The width of the source impedance is: \" + str(w0) + \" mm\")"
   ]
  }
 ],
 "metadata": {
  "kernelspec": {
   "display_name": "Python 3",
   "language": "python",
   "name": "python3"
  },
  "language_info": {
   "codemirror_mode": {
    "name": "ipython",
    "version": 3
   },
   "file_extension": ".py",
   "mimetype": "text/x-python",
   "name": "python",
   "nbconvert_exporter": "python",
   "pygments_lexer": "ipython3",
   "version": "3.10.11"
  },
  "orig_nbformat": 4
 },
 "nbformat": 4,
 "nbformat_minor": 2
}
